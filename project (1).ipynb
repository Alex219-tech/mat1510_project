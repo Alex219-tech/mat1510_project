{
  "nbformat": 4,
  "nbformat_minor": 0,
  "metadata": {
    "colab": {
      "provenance": []
    },
    "kernelspec": {
      "name": "python3",
      "display_name": "Python 3"
    },
    "language_info": {
      "name": "python"
    },
    "accelerator": "GPU",
    "gpuClass": "standard"
  },
  "cells": [
    {
      "cell_type": "markdown",
      "source": [
        "Task1: separating unforgettable examples and forgettable examples in 60000 train examples"
      ],
      "metadata": {
        "id": "HT8hEayHOfkx"
      }
    },
    {
      "cell_type": "code",
      "source": [
        "epochs=10"
      ],
      "metadata": {
        "id": "_SoudkEtP7C3"
      },
      "execution_count": null,
      "outputs": []
    },
    {
      "cell_type": "code",
      "source": [
        "from __future__ import print_function\n",
        "import argparse\n",
        "import numpy as np\n",
        "import numpy.random as npr\n",
        "import time\n",
        "import os\n",
        "import sys\n",
        "import pickle\n",
        "\n",
        "import torch\n",
        "import torch.nn as nn\n",
        "import torch.nn.functional as F\n",
        "import torch.optim as optim\n",
        "\n",
        "from torchvision import datasets, transforms\n",
        "\n",
        "\n",
        "# Format time for printing purposes\n",
        "def get_hms(seconds):\n",
        "    m, s = divmod(seconds, 60)\n",
        "    h, m = divmod(m, 60)\n",
        "\n",
        "    return h, m, s\n",
        "\n",
        "\n",
        "# Setup basic CNN model\n",
        "class Net(nn.Module):\n",
        "    def __init__(self):\n",
        "        super(Net, self).__init__()\n",
        "        self.conv1 = nn.Conv2d(1, 10, kernel_size=5)\n",
        "        self.conv2 = nn.Conv2d(10, 20, kernel_size=5)\n",
        "        self.conv2_drop = nn.Dropout2d()\n",
        "        self.fc1 = nn.Linear(320, 50)\n",
        "        self.fc2 = nn.Linear(50, 10)\n",
        "\n",
        "    def forward(self, x):\n",
        "        x = F.relu(F.max_pool2d(self.conv1(x), 2))\n",
        "\n",
        "        \n",
        "        x = F.relu(F.max_pool2d(self.conv2(x), 2))\n",
        "        \n",
        "\n",
        "        x = x.view(-1, 320)\n",
        "        x = F.relu(self.fc1(x))\n",
        "\n",
        "\n",
        "        x = self.fc2(x)\n",
        "        return F.log_softmax(x, dim=1)\n",
        "\n",
        "\n",
        "# Train model for one epoch\n",
        "#\n",
        "# example_stats: dictionary containing statistics accumulated over every presentation of example\n",
        "#\n",
        "def train(model, device, trainset, optimizer, epoch, example_stats):\n",
        "    train_loss = 0\n",
        "    correct = 0\n",
        "    total = 0\n",
        "    batch_size = 64\n",
        "\n",
        "    model.train()\n",
        "\n",
        "    # Get permutation to shuffle trainset\n",
        "    trainset_permutation_inds = npr.permutation(\n",
        "        np.arange(len(trainset.labels_train)))\n",
        "\n",
        "    for batch_idx, batch_start_ind in enumerate(\n",
        "            range(0, len(trainset.labels_train), batch_size)):\n",
        "\n",
        "        # Get trainset indices for batch\n",
        "        batch_inds = trainset_permutation_inds[batch_start_ind:\n",
        "                                               batch_start_ind + batch_size]\n",
        "\n",
        "        # Get batch inputs and targets, transform them appropriately\n",
        "        transformed_trainset = []\n",
        "        for ind in batch_inds:\n",
        "            transformed_trainset.append(trainset.__getitem__(ind)[0])\n",
        "        inputs = torch.stack(transformed_trainset)\n",
        "        targets = torch.LongTensor(\n",
        "            np.array(trainset.labels_train)[batch_inds].tolist())\n",
        "\n",
        "        # Map to available device\n",
        "        inputs, targets = inputs.to(device), targets.to(device)\n",
        "\n",
        "        # Forward propagation, compute loss, get predictions\n",
        "        \n",
        "        optimizer.zero_grad()\n",
        "        outputs = model(inputs)\n",
        "        loss = criterion(outputs, targets)\n",
        "        _, predicted = torch.max(outputs.data, 1)\n",
        "\n",
        "        # Update statistics and loss\n",
        "        acc = predicted == targets\n",
        "        for j, index in enumerate(batch_inds):\n",
        "\n",
        "            # Get index in original dataset (not sorted by forgetting)\n",
        "            index_in_original_dataset = train_indx[index]\n",
        "\n",
        "            # Compute missclassification margin\n",
        "            output_correct_class = outputs.data[\n",
        "                j, targets[j].item()]  # output for correct class\n",
        "            sorted_output, _ = torch.sort(outputs.data[j, :])\n",
        "            if acc[j]:\n",
        "                # Example classified correctly, highest incorrect class is 2nd largest output\n",
        "                output_highest_incorrect_class = sorted_output[-2]\n",
        "            else:\n",
        "                # Example misclassified, highest incorrect class is max output\n",
        "                output_highest_incorrect_class = sorted_output[-1]\n",
        "            margin = output_correct_class.item(\n",
        "            ) - output_highest_incorrect_class.item()\n",
        "\n",
        "            # Add the statistics of the current training example to dictionary\n",
        "            index_stats = example_stats.get(index_in_original_dataset,\n",
        "                                            [[], [], []])\n",
        "            index_stats[0].append(loss[j].item())\n",
        "            index_stats[1].append(acc[j].sum().item())\n",
        "            index_stats[2].append(margin)\n",
        "            example_stats[index_in_original_dataset] = index_stats\n",
        "\n",
        "        # Update loss, backward propagate, update optimizer\n",
        "        loss = loss.mean()\n",
        "        train_loss += loss.item()\n",
        "        total += targets.size(0)\n",
        "        correct += predicted.eq(targets.data).cpu().sum()\n",
        "        loss.backward()\n",
        "        optimizer.step()\n",
        "\n",
        "        sys.stdout.write('\\r')\n",
        "        sys.stdout.write(\n",
        "            '| Epoch [%3d/%3d] Iter[%3d/%3d]\\t\\tLoss: %.4f Acc@1: %.3f%%' %\n",
        "            (epoch, epochs, batch_idx + 1,\n",
        "             (len(trainset) // batch_size) + 1, loss.item(),\n",
        "             100. * correct.item() / total))\n",
        "        sys.stdout.flush()\n",
        "\n",
        "        # Add training accuracy to dict\n",
        "        index_stats = example_stats.get('train', [[], []])\n",
        "        index_stats[1].append(100. * correct.item() / float(total))\n",
        "        example_stats['train'] = index_stats\n",
        "\n",
        "\n",
        "# Evaluate model predictions on heldout test data\n",
        "#\n",
        "# example_stats: dictionary containing statistics accumulated over every presentation of example\n",
        "#\n",
        "def test(model, device, testset, example_stats):\n",
        "    test_loss = 0\n",
        "    correct = 0\n",
        "    total = 0\n",
        "    test_batch_size = 32\n",
        "\n",
        "    model.eval()\n",
        "\n",
        "    for batch_idx, batch_start_ind in enumerate(\n",
        "            range(0, len(testset.test_labels), test_batch_size)):\n",
        "\n",
        "        # Get batch inputs and targets\n",
        "        transformed_testset = []\n",
        "        for ind in range(\n",
        "                batch_start_ind,\n",
        "                min(\n",
        "                    len(testset.test_labels),\n",
        "                    batch_start_ind + test_batch_size)):\n",
        "            transformed_testset.append(testset.__getitem__(ind)[0])\n",
        "        inputs = torch.stack(transformed_testset)\n",
        "        targets = torch.LongTensor(\n",
        "            np.array(testset.test_labels)[batch_start_ind:batch_start_ind +\n",
        "                                          test_batch_size].tolist())\n",
        "\n",
        "        # Map to available device\n",
        "        inputs, targets = inputs.to(device), targets.to(device)\n",
        "\n",
        "        # Forward propagation, compute loss, get predictions\n",
        "        outputs = model(inputs)\n",
        "        loss = criterion(outputs, targets)\n",
        "        loss = loss.mean()\n",
        "        test_loss += loss.item()\n",
        "        _, predicted = torch.max(outputs.data, 1)\n",
        "        total += targets.size(0)\n",
        "        correct += predicted.eq(targets.data).cpu().sum()\n",
        "\n",
        "    # Add test accuracy to dict\n",
        "    acc = 100. * correct.item() / total\n",
        "    index_stats = example_stats.get('test', [[], []])\n",
        "    index_stats[1].append(100. * correct.item() / float(total))\n",
        "    example_stats['test'] = index_stats\n",
        "    print(\"\\n| Validation Epoch #%d\\t\\t\\tLoss: %.4f Acc@1: %.2f%%\" %\n",
        "          (epoch, loss.item(), acc))"
      ],
      "metadata": {
        "id": "oydap3aXIqmq"
      },
      "execution_count": null,
      "outputs": []
    },
    {
      "cell_type": "code",
      "source": [
        "# Set appropriate devices\n",
        "device = torch.device(\"cuda\")\n",
        "kwargs = {'num_workers': 1, 'pin_memory': True}\n",
        "\n",
        "# Set random seed for initialization\n",
        "torch.manual_seed(1)\n",
        "torch.cuda.manual_seed(1)\n",
        "npr.seed(1)\n"
      ],
      "metadata": {
        "id": "jea0DAfgI0tJ"
      },
      "execution_count": null,
      "outputs": []
    },
    {
      "cell_type": "markdown",
      "source": [
        "use b) to implement a novel approch by cutting out the middle square in each MNIST image, use a) otherwise"
      ],
      "metadata": {
        "id": "tWOMlOuj1G9J"
      }
    },
    {
      "cell_type": "code",
      "source": [
        "# a) Setup transforms\n",
        "all_transforms = [\n",
        "    transforms.ToTensor(),\n",
        "    transforms.Normalize((0.1307, ), (0.3081, ))\n",
        "]\n",
        "\n",
        "transform = transforms.Compose(all_transforms)"
      ],
      "metadata": {
        "id": "nbB8thXZy3FP"
      },
      "execution_count": null,
      "outputs": []
    },
    {
      "cell_type": "code",
      "source": [
        "# b) erase the middle square of each image in MNIST\n",
        "# image_size=28\n",
        "# def erase_middle(image: torch.Tensor) -> torch.Tensor:\n",
        "#     for i in range(int(image_size/2-5),int(image_size/2+3)):\n",
        "#         for j in range(int(image_size/2-5),int(image_size/2+3)):\n",
        "#             image[:, i, j] = 0\n",
        "#     return image\n",
        "\n",
        "# erase bottom right: \n",
        "# x_start = width // 2 \n",
        "# x_end = width // 2 + 8\n",
        "# y_start = height // 2 \n",
        "# y_end = height // 2 + 8 \n",
        "\n",
        "# erase bottom left: \n",
        "# x_start = width // 2 - 8\n",
        "# x_end = width // 2 \n",
        "# y_start = height // 2 \n",
        "# y_end = height // 2 + 8\n",
        "\n",
        "# erase top right: \n",
        "# x_start = width // 2 \n",
        "# x_end = width // 2 + 8\n",
        "# y_start = height // 2 - 8 \n",
        "# y_end = height // 2    \n",
        "\n",
        "# erase top left: \n",
        "# x_start = width // 2 - 8\n",
        "# x_end = width // 2 \n",
        "# y_start = height // 2 - 8\n",
        "# y_end = height // 2  \n",
        "\n",
        "def erase_square(image: torch.Tensor) -> torch.Tensor:\n",
        "    _, height, width = image.size()\n",
        "    x_start = width // 2 - 8\n",
        "    x_end = width // 2 \n",
        "    y_start = height // 2 \n",
        "    y_end = height // 2 + 8\n",
        "    # Using slices achieves the same as the for loops\n",
        "    image[:, y_start:y_end, x_start:x_end] = 0\n",
        "    return image\n",
        "\n",
        "transform = transforms.Compose(\n",
        "    [\n",
        "        # First transform it to a tensor\n",
        "        transforms.ToTensor(),\n",
        "        # Then erase the middle\n",
        "        transforms.Lambda(erase_square),\n",
        "    ]\n",
        ")"
      ],
      "metadata": {
        "id": "D_c43N8dyFeG"
      },
      "execution_count": null,
      "outputs": []
    },
    {
      "cell_type": "code",
      "source": [
        "# Load the appropriate train and test datasets\n",
        "trainset = datasets.MNIST(\n",
        "    root='/tmp/data', train=True, download=True, transform=transform)\n",
        "testset = datasets.MNIST(\n",
        "    root='/tmp/data', train=False, download=True, transform=transform)"
      ],
      "metadata": {
        "id": "aOPGKEw6MbNV"
      },
      "execution_count": null,
      "outputs": []
    },
    {
      "cell_type": "code",
      "source": [
        "# a) normal\n",
        "train_indx = np.array(range(len(trainset.train_labels)))"
      ],
      "metadata": {
        "id": "l6_lNu8IMiSL"
      },
      "execution_count": 87,
      "outputs": []
    },
    {
      "cell_type": "code",
      "source": [
        "# b) exclude forgettable examples from train\n",
        "train_indx = np.array(range(len(trainset.train_labels)))[unforget_lst]"
      ],
      "metadata": {
        "id": "nOB17s-M6GMH"
      },
      "execution_count": 81,
      "outputs": []
    },
    {
      "cell_type": "code",
      "source": [
        "# Reassign train data and labels\n",
        "# trainset.train_data and .train_labels are attributes and cannot be set, hence using new ones instead\n",
        "trainset.data_train = trainset.train_data[train_indx, :, :]\n",
        "trainset.labels_train = np.array(trainset.train_labels)[train_indx].tolist()"
      ],
      "metadata": {
        "id": "BGd1yFIuMwcj"
      },
      "execution_count": 88,
      "outputs": []
    },
    {
      "cell_type": "code",
      "source": [
        "len(trainset.labels_train)"
      ],
      "metadata": {
        "colab": {
          "base_uri": "https://localhost:8080/"
        },
        "id": "eH9oCN6u5qA-",
        "outputId": "4513bd6a-f453-4bed-cd53-f3e51647cd6f"
      },
      "execution_count": 89,
      "outputs": [
        {
          "output_type": "execute_result",
          "data": {
            "text/plain": [
              "60000"
            ]
          },
          "metadata": {},
          "execution_count": 89
        }
      ]
    },
    {
      "cell_type": "code",
      "source": [
        "print('Training on ' + str(len(trainset.labels_train)) + ' examples')"
      ],
      "metadata": {
        "colab": {
          "base_uri": "https://localhost:8080/"
        },
        "id": "js8db2x_OofC",
        "outputId": "b1cb2d3e-0bd3-4ba7-f507-cd4d8d0ae3fc"
      },
      "execution_count": 90,
      "outputs": [
        {
          "output_type": "stream",
          "name": "stdout",
          "text": [
            "Training on 60000 examples\n"
          ]
        }
      ]
    },
    {
      "cell_type": "code",
      "source": [
        "# count unique values in the train labels list\n",
        "from collections import Counter\n",
        "count_dict = dict(Counter(trainset.labels_train))\n",
        "count_dict\n"
      ],
      "metadata": {
        "colab": {
          "base_uri": "https://localhost:8080/"
        },
        "id": "HwTLibd_iKJY",
        "outputId": "c0a1ba17-ca9f-46cb-847c-91824483445b"
      },
      "execution_count": 91,
      "outputs": [
        {
          "output_type": "execute_result",
          "data": {
            "text/plain": [
              "{5: 5421,\n",
              " 0: 5923,\n",
              " 4: 5842,\n",
              " 1: 6742,\n",
              " 9: 5949,\n",
              " 2: 5958,\n",
              " 3: 6131,\n",
              " 6: 5918,\n",
              " 7: 6265,\n",
              " 8: 5851}"
            ]
          },
          "metadata": {},
          "execution_count": 91
        }
      ]
    },
    {
      "cell_type": "code",
      "source": [
        "# Setup model and optimizer\n",
        "model = Net().to(device)\n",
        "optimizer = optim.SGD(model.parameters(), lr=0.01, momentum=0.5)\n",
        "\n",
        "# Setup loss\n",
        "criterion = nn.CrossEntropyLoss()\n",
        "criterion.__init__(reduce=False)\n",
        "\n",
        "# Initialize dictionary to save statistics for every example presentation\n",
        "example_stats = {}\n",
        "\n",
        "elapsed_time = 0\n",
        "for epoch in range(epochs):\n",
        "    start_time = time.time()\n",
        "\n",
        "    train(model, device, trainset, optimizer, epoch, example_stats)\n",
        "    test(model, device, testset, example_stats)\n",
        "\n",
        "    epoch_time = time.time() - start_time\n",
        "    elapsed_time += epoch_time\n",
        "    print('| Elapsed time : %d:%02d:%02d' % (get_hms(elapsed_time)))\n",
        "\n",
        "    # Save the stats dictionary\n",
        "    #fname = os.path.join(args.output_dir, save_fname)\n",
        "    with open(\"__stats_dict_original_mnist.pkl\", \"wb\") as f:\n",
        "        pickle.dump(example_stats, f)\n",
        "\n",
        "    # Log the best train and test accuracy so far\n",
        "    with open(\"__best_acc_original_mnist.txt\", \"w\") as f:\n",
        "        f.write('train test \\n')\n",
        "        f.write(str(max(example_stats['train'][1])))\n",
        "        f.write(' ')\n",
        "        f.write(str(max(example_stats['test'][1])))"
      ],
      "metadata": {
        "colab": {
          "base_uri": "https://localhost:8080/"
        },
        "id": "qH3xKMidO0dG",
        "outputId": "2dba8358-7215-49d3-bf4e-f2c455e8c429"
      },
      "execution_count": 92,
      "outputs": [
        {
          "output_type": "stream",
          "name": "stdout",
          "text": [
            "| Epoch [  0/ 10] Iter[938/938]\t\tLoss: 0.1224 Acc@1: 87.368%\n",
            "| Validation Epoch #0\t\t\tLoss: 0.0555 Acc@1: 96.22%\n",
            "| Elapsed time : 0:00:31\n",
            "| Epoch [  1/ 10] Iter[938/938]\t\tLoss: 0.1871 Acc@1: 96.428%\n",
            "| Validation Epoch #1\t\t\tLoss: 0.0088 Acc@1: 97.07%\n",
            "| Elapsed time : 0:01:02\n",
            "| Epoch [  2/ 10] Iter[938/938]\t\tLoss: 0.1552 Acc@1: 97.418%\n",
            "| Validation Epoch #2\t\t\tLoss: 0.0044 Acc@1: 97.96%\n",
            "| Elapsed time : 0:01:33\n",
            "| Epoch [  3/ 10] Iter[938/938]\t\tLoss: 0.0603 Acc@1: 97.843%\n",
            "| Validation Epoch #3\t\t\tLoss: 0.0015 Acc@1: 98.15%\n",
            "| Elapsed time : 0:02:04\n",
            "| Epoch [  4/ 10] Iter[938/938]\t\tLoss: 0.2087 Acc@1: 98.275%\n",
            "| Validation Epoch #4\t\t\tLoss: 0.0006 Acc@1: 98.30%\n",
            "| Elapsed time : 0:02:34\n",
            "| Epoch [  5/ 10] Iter[938/938]\t\tLoss: 0.1020 Acc@1: 98.488%\n",
            "| Validation Epoch #5\t\t\tLoss: 0.0006 Acc@1: 98.57%\n",
            "| Elapsed time : 0:03:05\n",
            "| Epoch [  6/ 10] Iter[938/938]\t\tLoss: 0.0188 Acc@1: 98.677%\n",
            "| Validation Epoch #6\t\t\tLoss: 0.0003 Acc@1: 98.74%\n",
            "| Elapsed time : 0:03:36\n",
            "| Epoch [  7/ 10] Iter[938/938]\t\tLoss: 0.0110 Acc@1: 98.698%\n",
            "| Validation Epoch #7\t\t\tLoss: 0.0004 Acc@1: 98.70%\n",
            "| Elapsed time : 0:04:06\n",
            "| Epoch [  8/ 10] Iter[938/938]\t\tLoss: 0.0198 Acc@1: 98.873%\n",
            "| Validation Epoch #8\t\t\tLoss: 0.0001 Acc@1: 98.68%\n",
            "| Elapsed time : 0:04:37\n",
            "| Epoch [  9/ 10] Iter[938/938]\t\tLoss: 0.0048 Acc@1: 98.923%\n",
            "| Validation Epoch #9\t\t\tLoss: 0.0002 Acc@1: 98.92%\n",
            "| Elapsed time : 0:05:07\n"
          ]
        }
      ]
    },
    {
      "cell_type": "code",
      "source": [
        "infile = open('/content/__stats_dict_original_mnist.pkl','rb')\n",
        "forgetting_stats_dict = pickle.load(infile)"
      ],
      "metadata": {
        "id": "dvTOlGVRS6IU"
      },
      "execution_count": 50,
      "outputs": []
    },
    {
      "cell_type": "code",
      "source": [
        "len(forgetting_stats_dict)"
      ],
      "metadata": {
        "colab": {
          "base_uri": "https://localhost:8080/"
        },
        "id": "lq7KKNTeT-dS",
        "outputId": "7cfc01f3-9624-43ed-edfd-06bd7e266658"
      },
      "execution_count": 51,
      "outputs": [
        {
          "output_type": "execute_result",
          "data": {
            "text/plain": [
              "60002"
            ]
          },
          "metadata": {},
          "execution_count": 51
        }
      ]
    },
    {
      "cell_type": "code",
      "source": [
        "# Calculates forgetting statistics per example\n",
        "#\n",
        "# diag_stats: dictionary created during training containing \n",
        "#             loss, accuracy, and missclassification margin \n",
        "#             per example presentation\n",
        "# npresentations: number of training epochs\n",
        "#\n",
        "# Returns 4 dictionaries with statistics per example\n",
        "#\n",
        "def compute_forgetting_statistics(diag_stats, npresentations):\n",
        "\n",
        "    presentations_needed_to_learn = {}\n",
        "    unlearned_per_presentation = {}\n",
        "    margins_per_presentation = {}\n",
        "    first_learned = {}\n",
        "\n",
        "    for example_id, example_stats in diag_stats.items():\n",
        "\n",
        "        # Skip 'train' and 'test' keys of diag_stats\n",
        "        if not isinstance(example_id, str):\n",
        "\n",
        "            # Forgetting event is a transition in accuracy from 1 to 0\n",
        "            presentation_acc = np.array(example_stats[1][:npresentations])\n",
        "            transitions = presentation_acc[1:] - presentation_acc[:-1]\n",
        "\n",
        "            # Find all presentations when forgetting occurs\n",
        "            if len(np.where(transitions == -1)[0]) > 0:\n",
        "                unlearned_per_presentation[example_id] = np.where(\n",
        "                    transitions == -1)[0] + 2\n",
        "            else:\n",
        "                unlearned_per_presentation[example_id] = []\n",
        "\n",
        "            # Find number of presentations needed to learn example, \n",
        "            # e.g. last presentation when acc is 0\n",
        "            if len(np.where(presentation_acc == 0)[0]) > 0:\n",
        "                presentations_needed_to_learn[example_id] = np.where(\n",
        "                    presentation_acc == 0)[0][-1] + 1\n",
        "            else:\n",
        "                presentations_needed_to_learn[example_id] = 0\n",
        "\n",
        "            # Find the misclassication margin for each presentation of the example\n",
        "            margins_per_presentation = np.array(\n",
        "                example_stats[2][:npresentations])\n",
        "\n",
        "            # Find the presentation at which the example was first learned, \n",
        "            # e.g. first presentation when acc is 1\n",
        "            if len(np.where(presentation_acc == 1)[0]) > 0:\n",
        "                first_learned[example_id] = np.where(\n",
        "                    presentation_acc == 1)[0][0]\n",
        "            else:\n",
        "                first_learned[example_id] = np.nan\n",
        "\n",
        "    return presentations_needed_to_learn, unlearned_per_presentation, margins_per_presentation, first_learned\n",
        "\n",
        "# Sorts examples by number of forgetting counts during training, in ascending order\n",
        "# If an example was never learned, it is assigned the maximum number of forgetting counts\n",
        "# If multiple training runs used, sort examples by the sum of their forgetting counts over all runs\n",
        "#\n",
        "# unlearned_per_presentation_all: list of dictionaries, one per training run\n",
        "# first_learned_all: list of dictionaries, one per training run\n",
        "# npresentations: number of training epochs\n",
        "#\n",
        "# Returns 2 numpy arrays containing the sorted example ids and corresponding forgetting counts\n",
        "#\n",
        "def sort_examples_by_forgetting(unlearned_per_presentation_all,\n",
        "                                first_learned_all, npresentations):\n",
        "\n",
        "    # Initialize lists\n",
        "    example_original_order = []\n",
        "    example_stats = []\n",
        "\n",
        "    for example_id in unlearned_per_presentation_all[0].keys():\n",
        "\n",
        "        # Add current example to lists\n",
        "        example_original_order.append(example_id)\n",
        "        example_stats.append(0)\n",
        "\n",
        "        # Iterate over all training runs to calculate the total forgetting count for current example\n",
        "        for i in range(len(unlearned_per_presentation_all)):\n",
        "\n",
        "            # Get all presentations when current example was forgotten during current training run\n",
        "            stats = unlearned_per_presentation_all[i][example_id]\n",
        "\n",
        "            # If example was never learned during current training run, add max forgetting counts\n",
        "            if np.isnan(first_learned_all[i][example_id]):\n",
        "                example_stats[-1] += npresentations\n",
        "            else:\n",
        "                example_stats[-1] += len(stats)\n",
        "\n",
        "    print('Number of unforgettable examples: {}'.format(\n",
        "        len(np.where(np.array(example_stats) == 0)[0])))\n",
        "    return np.array(example_original_order)[np.argsort(\n",
        "        example_stats)], np.sort(example_stats)"
      ],
      "metadata": {
        "id": "r5F5-xiLcdN2"
      },
      "execution_count": 52,
      "outputs": []
    },
    {
      "cell_type": "code",
      "source": [
        "# Initialize lists to collect forgetting stastics per example across multiple training runs\n",
        "unlearned_per_presentation_all, first_learned_all = [], []\n",
        "# Compute the forgetting statistics per example for training run\n",
        "_, unlearned_per_presentation, _, first_learned = compute_forgetting_statistics(\n",
        "    forgetting_stats_dict, epochs)\n",
        "\n",
        "unlearned_per_presentation_all.append(\n",
        "    unlearned_per_presentation)\n",
        "first_learned_all.append(first_learned)"
      ],
      "metadata": {
        "id": "mMMT1nDxcyjC"
      },
      "execution_count": 53,
      "outputs": []
    },
    {
      "cell_type": "code",
      "source": [
        "# Sort examples by forgetting counts in ascending order, over one or more training runs\n",
        "ordered_examples, ordered_values = sort_examples_by_forgetting(\n",
        "    unlearned_per_presentation_all, first_learned_all, epochs)"
      ],
      "metadata": {
        "colab": {
          "base_uri": "https://localhost:8080/"
        },
        "id": "nXvDbH0zc2G0",
        "outputId": "9e099faa-adbd-40a9-bae1-d541ea9e126f"
      },
      "execution_count": 54,
      "outputs": [
        {
          "output_type": "stream",
          "name": "stdout",
          "text": [
            "Number of unforgettable examples: 57941\n"
          ]
        }
      ]
    },
    {
      "cell_type": "code",
      "source": [
        "len(ordered_values)"
      ],
      "metadata": {
        "colab": {
          "base_uri": "https://localhost:8080/"
        },
        "id": "bixvk3DKdzEX",
        "outputId": "56cdf9fb-8086-44c4-bb21-bddad39c8aa7"
      },
      "execution_count": 55,
      "outputs": [
        {
          "output_type": "execute_result",
          "data": {
            "text/plain": [
              "60000"
            ]
          },
          "metadata": {},
          "execution_count": 55
        }
      ]
    },
    {
      "cell_type": "code",
      "source": [
        "#ordered_examples"
      ],
      "metadata": {
        "colab": {
          "base_uri": "https://localhost:8080/"
        },
        "id": "quGfilv9e1CS",
        "outputId": "0cb27b5c-e904-4ae7-92be-207464e247fd"
      },
      "execution_count": null,
      "outputs": [
        {
          "output_type": "execute_result",
          "data": {
            "text/plain": [
              "array([15281,  6717,   403, ..., 43014,  4334, 25546])"
            ]
          },
          "metadata": {},
          "execution_count": 62
        }
      ]
    },
    {
      "cell_type": "code",
      "source": [
        "import pandas as pd\n",
        "dataset = pd.DataFrame({'example_id': ordered_examples, 'forgetting_counts': list(ordered_values)}, columns=['example_id', 'forgetting_counts'])"
      ],
      "metadata": {
        "id": "ShqHERMTfAZn"
      },
      "execution_count": 56,
      "outputs": []
    },
    {
      "cell_type": "code",
      "source": [
        "dataset"
      ],
      "metadata": {
        "colab": {
          "base_uri": "https://localhost:8080/",
          "height": 424
        },
        "id": "tbxMM8zPfrTb",
        "outputId": "56a1dd36-aa1c-4384-d482-0a1860ec6f81"
      },
      "execution_count": null,
      "outputs": [
        {
          "output_type": "execute_result",
          "data": {
            "text/plain": [
              "       example_id  forgetting_counts\n",
              "0           15281                  0\n",
              "1           11833                  0\n",
              "2           33180                  0\n",
              "3            3706                  0\n",
              "4           55204                  0\n",
              "...           ...                ...\n",
              "59995       20350                 10\n",
              "59996       59719                 10\n",
              "59997       41614                 10\n",
              "59998        2901                 10\n",
              "59999       16676                 10\n",
              "\n",
              "[60000 rows x 2 columns]"
            ],
            "text/html": [
              "\n",
              "  <div id=\"df-55e4c826-b76e-414b-b5b8-6d73ba335479\">\n",
              "    <div class=\"colab-df-container\">\n",
              "      <div>\n",
              "<style scoped>\n",
              "    .dataframe tbody tr th:only-of-type {\n",
              "        vertical-align: middle;\n",
              "    }\n",
              "\n",
              "    .dataframe tbody tr th {\n",
              "        vertical-align: top;\n",
              "    }\n",
              "\n",
              "    .dataframe thead th {\n",
              "        text-align: right;\n",
              "    }\n",
              "</style>\n",
              "<table border=\"1\" class=\"dataframe\">\n",
              "  <thead>\n",
              "    <tr style=\"text-align: right;\">\n",
              "      <th></th>\n",
              "      <th>example_id</th>\n",
              "      <th>forgetting_counts</th>\n",
              "    </tr>\n",
              "  </thead>\n",
              "  <tbody>\n",
              "    <tr>\n",
              "      <th>0</th>\n",
              "      <td>15281</td>\n",
              "      <td>0</td>\n",
              "    </tr>\n",
              "    <tr>\n",
              "      <th>1</th>\n",
              "      <td>11833</td>\n",
              "      <td>0</td>\n",
              "    </tr>\n",
              "    <tr>\n",
              "      <th>2</th>\n",
              "      <td>33180</td>\n",
              "      <td>0</td>\n",
              "    </tr>\n",
              "    <tr>\n",
              "      <th>3</th>\n",
              "      <td>3706</td>\n",
              "      <td>0</td>\n",
              "    </tr>\n",
              "    <tr>\n",
              "      <th>4</th>\n",
              "      <td>55204</td>\n",
              "      <td>0</td>\n",
              "    </tr>\n",
              "    <tr>\n",
              "      <th>...</th>\n",
              "      <td>...</td>\n",
              "      <td>...</td>\n",
              "    </tr>\n",
              "    <tr>\n",
              "      <th>59995</th>\n",
              "      <td>20350</td>\n",
              "      <td>10</td>\n",
              "    </tr>\n",
              "    <tr>\n",
              "      <th>59996</th>\n",
              "      <td>59719</td>\n",
              "      <td>10</td>\n",
              "    </tr>\n",
              "    <tr>\n",
              "      <th>59997</th>\n",
              "      <td>41614</td>\n",
              "      <td>10</td>\n",
              "    </tr>\n",
              "    <tr>\n",
              "      <th>59998</th>\n",
              "      <td>2901</td>\n",
              "      <td>10</td>\n",
              "    </tr>\n",
              "    <tr>\n",
              "      <th>59999</th>\n",
              "      <td>16676</td>\n",
              "      <td>10</td>\n",
              "    </tr>\n",
              "  </tbody>\n",
              "</table>\n",
              "<p>60000 rows × 2 columns</p>\n",
              "</div>\n",
              "      <button class=\"colab-df-convert\" onclick=\"convertToInteractive('df-55e4c826-b76e-414b-b5b8-6d73ba335479')\"\n",
              "              title=\"Convert this dataframe to an interactive table.\"\n",
              "              style=\"display:none;\">\n",
              "        \n",
              "  <svg xmlns=\"http://www.w3.org/2000/svg\" height=\"24px\"viewBox=\"0 0 24 24\"\n",
              "       width=\"24px\">\n",
              "    <path d=\"M0 0h24v24H0V0z\" fill=\"none\"/>\n",
              "    <path d=\"M18.56 5.44l.94 2.06.94-2.06 2.06-.94-2.06-.94-.94-2.06-.94 2.06-2.06.94zm-11 1L8.5 8.5l.94-2.06 2.06-.94-2.06-.94L8.5 2.5l-.94 2.06-2.06.94zm10 10l.94 2.06.94-2.06 2.06-.94-2.06-.94-.94-2.06-.94 2.06-2.06.94z\"/><path d=\"M17.41 7.96l-1.37-1.37c-.4-.4-.92-.59-1.43-.59-.52 0-1.04.2-1.43.59L10.3 9.45l-7.72 7.72c-.78.78-.78 2.05 0 2.83L4 21.41c.39.39.9.59 1.41.59.51 0 1.02-.2 1.41-.59l7.78-7.78 2.81-2.81c.8-.78.8-2.07 0-2.86zM5.41 20L4 18.59l7.72-7.72 1.47 1.35L5.41 20z\"/>\n",
              "  </svg>\n",
              "      </button>\n",
              "      \n",
              "  <style>\n",
              "    .colab-df-container {\n",
              "      display:flex;\n",
              "      flex-wrap:wrap;\n",
              "      gap: 12px;\n",
              "    }\n",
              "\n",
              "    .colab-df-convert {\n",
              "      background-color: #E8F0FE;\n",
              "      border: none;\n",
              "      border-radius: 50%;\n",
              "      cursor: pointer;\n",
              "      display: none;\n",
              "      fill: #1967D2;\n",
              "      height: 32px;\n",
              "      padding: 0 0 0 0;\n",
              "      width: 32px;\n",
              "    }\n",
              "\n",
              "    .colab-df-convert:hover {\n",
              "      background-color: #E2EBFA;\n",
              "      box-shadow: 0px 1px 2px rgba(60, 64, 67, 0.3), 0px 1px 3px 1px rgba(60, 64, 67, 0.15);\n",
              "      fill: #174EA6;\n",
              "    }\n",
              "\n",
              "    [theme=dark] .colab-df-convert {\n",
              "      background-color: #3B4455;\n",
              "      fill: #D2E3FC;\n",
              "    }\n",
              "\n",
              "    [theme=dark] .colab-df-convert:hover {\n",
              "      background-color: #434B5C;\n",
              "      box-shadow: 0px 1px 3px 1px rgba(0, 0, 0, 0.15);\n",
              "      filter: drop-shadow(0px 1px 2px rgba(0, 0, 0, 0.3));\n",
              "      fill: #FFFFFF;\n",
              "    }\n",
              "  </style>\n",
              "\n",
              "      <script>\n",
              "        const buttonEl =\n",
              "          document.querySelector('#df-55e4c826-b76e-414b-b5b8-6d73ba335479 button.colab-df-convert');\n",
              "        buttonEl.style.display =\n",
              "          google.colab.kernel.accessAllowed ? 'block' : 'none';\n",
              "\n",
              "        async function convertToInteractive(key) {\n",
              "          const element = document.querySelector('#df-55e4c826-b76e-414b-b5b8-6d73ba335479');\n",
              "          const dataTable =\n",
              "            await google.colab.kernel.invokeFunction('convertToInteractive',\n",
              "                                                     [key], {});\n",
              "          if (!dataTable) return;\n",
              "\n",
              "          const docLinkHtml = 'Like what you see? Visit the ' +\n",
              "            '<a target=\"_blank\" href=https://colab.research.google.com/notebooks/data_table.ipynb>data table notebook</a>'\n",
              "            + ' to learn more about interactive tables.';\n",
              "          element.innerHTML = '';\n",
              "          dataTable['output_type'] = 'display_data';\n",
              "          await google.colab.output.renderOutput(dataTable, element);\n",
              "          const docLink = document.createElement('div');\n",
              "          docLink.innerHTML = docLinkHtml;\n",
              "          element.appendChild(docLink);\n",
              "        }\n",
              "      </script>\n",
              "    </div>\n",
              "  </div>\n",
              "  "
            ]
          },
          "metadata": {},
          "execution_count": 21
        }
      ]
    },
    {
      "cell_type": "code",
      "source": [
        "import matplotlib.pyplot as plt\n",
        "fig, ax1 = plt.subplots()\n",
        "ax1.hist(ordered_values, align='left')\n",
        "y_vals = ax1.get_yticks()\n",
        "ax1.set_yticklabels(['{:.2f}'.format(x / 60000) for x in y_vals])\n",
        "plt.xticks(range(0,18))\n",
        "plt.xlabel('number of forgetting counts')\n",
        "plt.ylabel('fraction of examples')\n",
        "plt.show()"
      ],
      "metadata": {
        "colab": {
          "base_uri": "https://localhost:8080/",
          "height": 279
        },
        "id": "YPvgFg1pXajg",
        "outputId": "af900239-04bc-4a45-af69-15976b39bd6d"
      },
      "execution_count": null,
      "outputs": [
        {
          "output_type": "display_data",
          "data": {
            "text/plain": [
              "<Figure size 432x288 with 1 Axes>"
            ],
            "image/png": "[encoded data removed]"
          },
          "metadata": {
            "needs_background": "light"
          }
        }
      ]
    },
    {
      "cell_type": "code",
      "source": [
        "dataset['forgetting_counts'].value_counts()"
      ],
      "metadata": {
        "colab": {
          "base_uri": "https://localhost:8080/"
        },
        "id": "zSRseNcxasXq",
        "outputId": "91420593-afd7-4c79-d7de-88ce9c5e187f"
      },
      "execution_count": null,
      "outputs": [
        {
          "output_type": "execute_result",
          "data": {
            "text/plain": [
              "0     57467\n",
              "1      1148\n",
              "2       504\n",
              "3       307\n",
              "4       210\n",
              "5       123\n",
              "6        89\n",
              "7        57\n",
              "8        48\n",
              "9        16\n",
              "10       14\n",
              "11       12\n",
              "12        2\n",
              "14        2\n",
              "17        1\n",
              "Name: forgetting_counts, dtype: int64"
            ]
          },
          "metadata": {},
          "execution_count": 23
        }
      ]
    },
    {
      "cell_type": "code",
      "source": [
        "import matplotlib.pyplot as plt"
      ],
      "metadata": {
        "id": "W3BuqL5nUGX1"
      },
      "execution_count": null,
      "outputs": []
    },
    {
      "cell_type": "code",
      "source": [
        "# show images with specific index from MNIST\n",
        "x, _ = trainset[15281] # x is now a torch.Tensor\n",
        "plt.imshow(x.numpy()[0], cmap='gray')"
      ],
      "metadata": {
        "id": "pJxJlKoljJLV",
        "colab": {
          "base_uri": "https://localhost:8080/",
          "height": 283
        },
        "outputId": "41dc7137-5c36-4cb8-c591-618e250963d5"
      },
      "execution_count": null,
      "outputs": [
        {
          "output_type": "execute_result",
          "data": {
            "text/plain": [
              "<matplotlib.image.AxesImage at 0x7fefacfbe810>"
            ]
          },
          "metadata": {},
          "execution_count": 104
        },
        {
          "output_type": "display_data",
          "data": {
            "text/plain": [
              "<Figure size 432x288 with 1 Axes>"
            ],
            "image/png": "[encoded data removed]"
          },
          "metadata": {
            "needs_background": "light"
          }
        }
      ]
    },
    {
      "cell_type": "code",
      "source": [],
      "metadata": {
        "id": "mwDGq2qijR8Q"
      },
      "execution_count": null,
      "outputs": []
    },
    {
      "cell_type": "code",
      "source": [
        "# saving unforgettable examples according to their class\n",
        "from collections import defaultdict\n",
        "Examples_unforget = defaultdict(list)\n",
        "\n",
        "for i in dataset[dataset.forgetting_counts==0].example_id:\n",
        "  Examples_unforget[trainset.labels_train[i]].append(i)"
      ],
      "metadata": {
        "id": "vAZ95uKA-lwI"
      },
      "execution_count": 57,
      "outputs": []
    },
    {
      "cell_type": "code",
      "source": [
        "# saving forgettable examples according to their class\n",
        "Examples_forget = defaultdict(list)\n",
        "\n",
        "for i in dataset[dataset.forgetting_counts!=0].example_id:\n",
        "  Examples_forget[trainset.labels_train[i]].append(i)"
      ],
      "metadata": {
        "id": "mE1dLtjW---L"
      },
      "execution_count": 58,
      "outputs": []
    },
    {
      "cell_type": "code",
      "source": [
        "with open('examples_unforget_mnist.txt', 'w') as f:\n",
        "    print(Examples_unforget, file=f)"
      ],
      "metadata": {
        "id": "QBZ04Gs7AFkL"
      },
      "execution_count": null,
      "outputs": []
    },
    {
      "cell_type": "code",
      "source": [
        "with open('examples_forget_mnist.txt', 'w') as f:\n",
        "    print(Examples_forget, file=f)"
      ],
      "metadata": {
        "id": "Xhvitu6rA6mB"
      },
      "execution_count": null,
      "outputs": []
    },
    {
      "cell_type": "code",
      "source": [
        "index=Examples_unforget.get(6)[100]\n",
        "x, _ = trainset[index] # x is now a torch.Tensor\n",
        "plt.imshow(x.numpy()[0], cmap='gray')"
      ],
      "metadata": {
        "colab": {
          "base_uri": "https://localhost:8080/",
          "height": 283
        },
        "id": "4DpA8YA7A_Rj",
        "outputId": "0a9a41eb-f6fb-402c-e441-51d56dcbb13b"
      },
      "execution_count": null,
      "outputs": [
        {
          "output_type": "execute_result",
          "data": {
            "text/plain": [
              "<matplotlib.image.AxesImage at 0x7f58be742c50>"
            ]
          },
          "metadata": {},
          "execution_count": 73
        },
        {
          "output_type": "display_data",
          "data": {
            "text/plain": [
              "<Figure size 432x288 with 1 Axes>"
            ],
            "image/png": "[encoded data removed]"
          },
          "metadata": {
            "needs_background": "light"
          }
        }
      ]
    },
    {
      "cell_type": "code",
      "source": [
        "index=Examples_forget.get(6)[100]\n",
        "x, _ = trainset[index] # x is now a torch.Tensor\n",
        "plt.imshow(x.numpy()[0], cmap='gray')"
      ],
      "metadata": {
        "colab": {
          "base_uri": "https://localhost:8080/",
          "height": 283
        },
        "id": "hZBYAxbPBb3c",
        "outputId": "dce6e0e8-1460-4d1a-c7dc-90e6c4151639"
      },
      "execution_count": null,
      "outputs": [
        {
          "output_type": "execute_result",
          "data": {
            "text/plain": [
              "<matplotlib.image.AxesImage at 0x7f58be72d810>"
            ]
          },
          "metadata": {},
          "execution_count": 74
        },
        {
          "output_type": "display_data",
          "data": {
            "text/plain": [
              "<Figure size 432x288 with 1 Axes>"
            ],
            "image/png": "[encoded data removed]"
          },
          "metadata": {
            "needs_background": "light"
          }
        }
      ]
    },
    {
      "cell_type": "code",
      "source": [
        "for key in Examples_unforget.keys():\n",
        "  print(key, len(Examples_unforget.get(key)))"
      ],
      "metadata": {
        "id": "ckCapZd2CfsZ",
        "colab": {
          "base_uri": "https://localhost:8080/"
        },
        "outputId": "ad7a03bf-37ae-46de-be42-fa375d12418f"
      },
      "execution_count": 59,
      "outputs": [
        {
          "output_type": "stream",
          "name": "stdout",
          "text": [
            "3 5911\n",
            "0 5810\n",
            "2 5725\n",
            "6 5785\n",
            "5 5243\n",
            "1 6623\n",
            "9 5630\n",
            "4 5631\n",
            "8 5535\n",
            "7 6048\n"
          ]
        }
      ]
    },
    {
      "cell_type": "code",
      "source": [
        "# get indice of unforgettable examples\n",
        "unforget_lst=dataset[dataset.forgetting_counts==0].example_id.tolist()\n",
        "len(unforget_lst)"
      ],
      "metadata": {
        "colab": {
          "base_uri": "https://localhost:8080/"
        },
        "id": "Girpgx-LXCBu",
        "outputId": "8875ff41-d6ba-4865-f9ae-52c42f9aad7c"
      },
      "execution_count": 60,
      "outputs": [
        {
          "output_type": "execute_result",
          "data": {
            "text/plain": [
              "57941"
            ]
          },
          "metadata": {},
          "execution_count": 60
        }
      ]
    },
    {
      "cell_type": "code",
      "source": [
        "# get indice of forgettable examples\n",
        "forget_lst=dataset[dataset.forgetting_counts!=0].example_id.tolist()\n",
        "len(forget_lst)"
      ],
      "metadata": {
        "colab": {
          "base_uri": "https://localhost:8080/"
        },
        "id": "3akI1YpWXKnT",
        "outputId": "29b5b8da-c0a0-410f-dda1-c676f0c49a87"
      },
      "execution_count": 61,
      "outputs": [
        {
          "output_type": "execute_result",
          "data": {
            "text/plain": [
              "2059"
            ]
          },
          "metadata": {},
          "execution_count": 61
        }
      ]
    },
    {
      "cell_type": "code",
      "source": [
        "type(dataset[dataset.forgetting_counts!=0].example_id)"
      ],
      "metadata": {
        "colab": {
          "base_uri": "https://localhost:8080/"
        },
        "id": "qrT4zMJkXQ8c",
        "outputId": "71a0239a-3d0a-4f68-dc47-ab696ce6266e"
      },
      "execution_count": null,
      "outputs": [
        {
          "output_type": "execute_result",
          "data": {
            "text/plain": [
              "pandas.core.series.Series"
            ]
          },
          "metadata": {},
          "execution_count": 108
        }
      ]
    },
    {
      "cell_type": "code",
      "source": [],
      "metadata": {
        "id": "J_lwoKxXXaPq"
      },
      "execution_count": null,
      "outputs": []
    }
  ]
}